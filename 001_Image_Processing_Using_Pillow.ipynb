{
  "nbformat": 4,
  "nbformat_minor": 0,
  "metadata": {
    "colab": {
      "provenance": [],
      "authorship_tag": "ABX9TyMmxQ01jZZP1+IMKUOUEjOV",
      "include_colab_link": true
    },
    "kernelspec": {
      "name": "python3",
      "display_name": "Python 3"
    },
    "language_info": {
      "name": "python"
    }
  },
  "cells": [
    {
      "cell_type": "markdown",
      "metadata": {
        "id": "view-in-github",
        "colab_type": "text"
      },
      "source": [
        "<a href=\"https://colab.research.google.com/github/Sayed-Ali-Raza-Naqvi/Image-Processing-Machine-Learning-and-More/blob/main/001_Image_Processing_Using_Pillow.ipynb\" target=\"_parent\"><img src=\"https://colab.research.google.com/assets/colab-badge.svg\" alt=\"Open In Colab\"/></a>"
      ]
    },
    {
      "cell_type": "markdown",
      "source": [
        "# **Image Processing with Python (PIL)**\n",
        "---\n",
        "\n",
        "## **Overview**\n",
        "This notebook serves as a comprehensive guide for performing basic image processing tasks using the Pillow (PIL) library in Python. The Pillow package provides extensive capabilities for opening, manipulating, and saving images in various formats. Below, you will find detailed explanations of common operations such as resizing, cropping, rotating, flipping, and more, along with their code examples and parameters."
      ],
      "metadata": {
        "id": "mC0c9iMeRmp_"
      }
    },
    {
      "cell_type": "markdown",
      "source": [
        "## **Installing Pillow**\n",
        "- `!pip install pillow`: This command installs the Pillow library, a fork of the original Python Imaging Library (PIL)."
      ],
      "metadata": {
        "id": "VtsTzp5TVy5s"
      }
    },
    {
      "cell_type": "code",
      "execution_count": 3,
      "metadata": {
        "id": "xoFWlE6tG9-8"
      },
      "outputs": [],
      "source": [
        "# !pip install pillow"
      ]
    },
    {
      "cell_type": "markdown",
      "source": [
        "## **1. Importing PIL and Opening an Image**\n",
        "\n",
        "- `Image.open()`: Opens the image file located at the specified path.\n",
        "- `img`: This is an instance of the Image class representing the opened image.\n",
        "\n",
        "**Parameters**:\n",
        "- The path to the image file.\n",
        "- The format is automatically detected based on the file extension."
      ],
      "metadata": {
        "id": "Pq4FlZ7yOh6b"
      }
    },
    {
      "cell_type": "code",
      "source": [
        "from PIL import Image"
      ],
      "metadata": {
        "id": "9Ckr1_VnH0vp"
      },
      "execution_count": 2,
      "outputs": []
    },
    {
      "cell_type": "code",
      "source": [
        "img = Image.open(\"/content/image.jpg\")"
      ],
      "metadata": {
        "id": "ihOQJqCVH_x7"
      },
      "execution_count": 4,
      "outputs": []
    },
    {
      "cell_type": "markdown",
      "source": [
        "## **2. Checking the Type of Image Object**\n",
        "- `type(img)`: Returns the type of the object, which should output <class 'PIL.JpegImagePlugin.JpegImageFile'>, showing that it's an image object."
      ],
      "metadata": {
        "id": "4xlPMdP6PMaM"
      }
    },
    {
      "cell_type": "code",
      "source": [
        "print(type(img))"
      ],
      "metadata": {
        "colab": {
          "base_uri": "https://localhost:8080/"
        },
        "id": "1fOdl0QbPLjz",
        "outputId": "bb635a32-11c5-4bcb-d487-8761dad7b581"
      },
      "execution_count": 29,
      "outputs": [
        {
          "output_type": "stream",
          "name": "stdout",
          "text": [
            "<class 'PIL.JpegImagePlugin.JpegImageFile'>\n"
          ]
        }
      ]
    },
    {
      "cell_type": "markdown",
      "source": [
        "## **3. Checking Image Attributes**\n",
        "- `img.format`: Returns the format of the image (e.g., JPEG, PNG).\n",
        "- `img.mode`: The mode of the image (e.g., 'RGB' for color images, 'L' for grayscale).\n",
        "- `img.size`: The size of the image in pixels as a tuple, e.g., (width, height)."
      ],
      "metadata": {
        "id": "HGmf8DM0PaVI"
      }
    },
    {
      "cell_type": "code",
      "source": [
        "print(img.format)\n",
        "print(img.mode)\n",
        "print(img.size)"
      ],
      "metadata": {
        "colab": {
          "base_uri": "https://localhost:8080/"
        },
        "id": "XxJploneJLgQ",
        "outputId": "fd069539-93be-4fa6-de96-0202f746b43e"
      },
      "execution_count": 28,
      "outputs": [
        {
          "output_type": "stream",
          "name": "stdout",
          "text": [
            "JPEG\n",
            "RGB\n",
            "(600, 439)\n"
          ]
        }
      ]
    },
    {
      "cell_type": "markdown",
      "source": [
        "## **4. Resizing an Image**\n",
        "- `img.resize()`: Resizes the image to the specified dimensions.\n",
        "\n",
        "**Parameters**:\n",
        "- A tuple of the target size, (width, height).\n",
        "- Optional parameters: resample, box, reducing_gap can be used for advanced resizing techniques."
      ],
      "metadata": {
        "id": "wvw5RmD4PnZ9"
      }
    },
    {
      "cell_type": "code",
      "source": [
        "resized_img = img.resize((300,300))\n",
        "resized_img.size"
      ],
      "metadata": {
        "colab": {
          "base_uri": "https://localhost:8080/"
        },
        "id": "vzMIAI2UJdye",
        "outputId": "464b320d-906d-4c88-993d-1554667531c9"
      },
      "execution_count": 11,
      "outputs": [
        {
          "output_type": "execute_result",
          "data": {
            "text/plain": [
              "(300, 300)"
            ]
          },
          "metadata": {},
          "execution_count": 11
        }
      ]
    },
    {
      "cell_type": "markdown",
      "source": [
        "## **5. Thumbnailing an Image**\n",
        "- `img.thumbnail()`: Modifies the original image to fit within the specified size, maintaining the aspect ratio.\n",
        "\n",
        "**Parameters**:\n",
        "- A tuple for maximum size (width, height).\n",
        "- It alters the image in place, unlike resize() which returns a new image object.\n"
      ],
      "metadata": {
        "id": "pAorwNI-P8Q-"
      }
    },
    {
      "cell_type": "code",
      "source": [
        "img.thumbnail((300, 300))\n",
        "img.size"
      ],
      "metadata": {
        "colab": {
          "base_uri": "https://localhost:8080/"
        },
        "id": "6o8h2ZIvJ9hZ",
        "outputId": "c0ef5833-ec3f-40aa-cf77-c3c2c2ffb2d5"
      },
      "execution_count": 15,
      "outputs": [
        {
          "output_type": "execute_result",
          "data": {
            "text/plain": [
              "(300, 220)"
            ]
          },
          "metadata": {},
          "execution_count": 15
        }
      ]
    },
    {
      "cell_type": "markdown",
      "source": [
        "**Difference between resize() and thumbnail()**:\n",
        "- `resize()` changes the image to exactly the specified dimensions.\n",
        "- `thumbnail()` maintains the aspect ratio and resizes the image only if necessary."
      ],
      "metadata": {
        "id": "T6H85riJQJG0"
      }
    },
    {
      "cell_type": "code",
      "source": [
        "img = Image.open(\"/content/image.jpg\")"
      ],
      "metadata": {
        "id": "zS3Rf256KC5G"
      },
      "execution_count": 16,
      "outputs": []
    },
    {
      "cell_type": "markdown",
      "source": [
        "## **6. Cropping an Image**\n",
        "- `img.crop()`: Crops a rectangular region from the image.\n",
        "\n",
        "**Parameters**:\n",
        "- A tuple specifying the left, upper, right, and lower pixel coordinates for the crop box (left, upper, right, lower)."
      ],
      "metadata": {
        "id": "BtIcL61eQTgd"
      }
    },
    {
      "cell_type": "code",
      "source": [
        "cropped_img = img.crop((0, 0, 300, 200))\n",
        "cropped_img.size"
      ],
      "metadata": {
        "colab": {
          "base_uri": "https://localhost:8080/"
        },
        "id": "IMFUnkZMKmpS",
        "outputId": "b9155113-aa96-4aaa-d459-9bbbf822d1b8"
      },
      "execution_count": 18,
      "outputs": [
        {
          "output_type": "execute_result",
          "data": {
            "text/plain": [
              "(300, 200)"
            ]
          },
          "metadata": {},
          "execution_count": 18
        }
      ]
    },
    {
      "cell_type": "markdown",
      "source": [
        "## **7. Converting an Image to Grayscale**\n",
        "- `convert(\"L\")`: Converts the image to grayscale. The \"L\" mode means luminance, or grayscale.\n",
        "- `convert(\"RGB\")`: Converts to RGB mode (color).\n",
        "- `convert(\"CMYK\")`: Converts to CMYK mode (used in printing)."
      ],
      "metadata": {
        "id": "vSHXQo69Qfmt"
      }
    },
    {
      "cell_type": "code",
      "source": [
        "img2 = Image.open(\"/content/image.jpg\").convert(\"L\")"
      ],
      "metadata": {
        "id": "aZo4lN5ZKzpn"
      },
      "execution_count": 21,
      "outputs": []
    },
    {
      "cell_type": "markdown",
      "source": [
        "## **8. Copying and Pasting Images**\n",
        "- `img.copy()`: Creates a copy of the image.\n",
        "- `img.paste()`: Pastes another image onto the original at the specified coordinates (x, y).\n",
        "\n",
        "**Parameters**:\n",
        "- The image to paste, and the position (x, y)."
      ],
      "metadata": {
        "id": "_c_2nQMpQp83"
      }
    },
    {
      "cell_type": "code",
      "source": [
        "img_copy = img.copy()\n",
        "img_copy.paste(img2, (50, 50))"
      ],
      "metadata": {
        "id": "1W30bx4jLTms"
      },
      "execution_count": 22,
      "outputs": []
    },
    {
      "cell_type": "markdown",
      "source": [
        "## **9. Rotating an Image**\n",
        "- `img.rotate()`: Rotates the image by a specified number of degrees counterclockwise.\n",
        "\n",
        "**Parameters**:\n",
        "- The degree of rotation (positive for counterclockwise, negative for clockwise).\n",
        "- Optional expand=True resizes the output image to hold the entire rotated image."
      ],
      "metadata": {
        "id": "c6FjvPVrQyyU"
      }
    },
    {
      "cell_type": "code",
      "source": [
        "rotate_img = img.rotate(90)"
      ],
      "metadata": {
        "id": "tKSZ9uV1LwmN"
      },
      "execution_count": 24,
      "outputs": []
    },
    {
      "cell_type": "markdown",
      "source": [
        "## **10. Flipping an Image**\n",
        "- `img.transpose()`: Flips or rotates the image.\n",
        "- `Image.FLIP_LEFT_RIGHT`: This constant flips the image horizontally (left to right).\n",
        "- `Image.FLIP_TOP_BOTTOM`: Flips the image vertically (top to bottom).\n",
        "- `Image.ROTATE_90`, `Image.ROTATE_180`, `Image.ROTATE_270`: Rotates the image by 90, 180, or 270 degrees."
      ],
      "metadata": {
        "id": "pca6wY-OQ-Ro"
      }
    },
    {
      "cell_type": "code",
      "source": [
        "flip_img = img.transpose(Image.FLIP_LEFT_RIGHT)"
      ],
      "metadata": {
        "id": "A8kI_ShJMXza"
      },
      "execution_count": 25,
      "outputs": []
    },
    {
      "cell_type": "markdown",
      "source": [
        "## **11. Saving Images**\n",
        "- `save()`: Saves the image to the specified file path.\n",
        "\n",
        "**Parameters**:\n",
        "- The file path where the image will be saved.\n",
        "- Optional parameters: You can specify the image format by adding format='JPEG', or add quality control options such as quality=95 for JPEG images."
      ],
      "metadata": {
        "id": "JU0EI7dFRSCq"
      }
    },
    {
      "cell_type": "code",
      "source": [
        "resized_img.save(\"/content/resize.jpg\")\n",
        "cropped_img.save(\"/content/crop.jpg\")\n",
        "img_copy.save(\"/content/overlap.jpg\")\n",
        "rotate_img.save(\"/content/rotate.jpg\")\n",
        "flip_img.save(\"/content/flip.jpg\")"
      ],
      "metadata": {
        "id": "U7aU3i1XMrx2"
      },
      "execution_count": 26,
      "outputs": []
    }
  ]
}